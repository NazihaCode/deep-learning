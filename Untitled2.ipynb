{
  "nbformat": 4,
  "nbformat_minor": 0,
  "metadata": {
    "colab": {
      "provenance": [],
      "authorship_tag": "ABX9TyP6lMk8xfSiG7paT6rJ+XGQ",
      "include_colab_link": true
    },
    "kernelspec": {
      "name": "python3",
      "display_name": "Python 3"
    },
    "language_info": {
      "name": "python"
    },
    "gpuClass": "standard"
  },
  "cells": [
    {
      "cell_type": "markdown",
      "metadata": {
        "id": "view-in-github",
        "colab_type": "text"
      },
      "source": [
        "<a href=\"https://colab.research.google.com/github/NazihaCode/deep-learning/blob/master/Untitled2.ipynb\" target=\"_parent\"><img src=\"https://colab.research.google.com/assets/colab-badge.svg\" alt=\"Open In Colab\"/></a>"
      ]
    },
    {
      "cell_type": "markdown",
      "source": [
        "### Building a Captcha OCR\n",
        "\n",
        "\n",
        "\n",
        "```\n",
        "\n",
        "```\n",
        "\n",
        "\n",
        "\n",
        "\n",
        "\n",
        "\n",
        "\n",
        "\n"
      ],
      "metadata": {
        "id": "wDnBQCDoFo2b"
      }
    },
    {
      "cell_type": "code",
      "execution_count": 1,
      "metadata": {
        "colab": {
          "base_uri": "https://localhost:8080/"
        },
        "id": "jJCq6A6DC8Rd",
        "outputId": "2645f049-7b81-43c3-befa-dd82f8e900a0"
      },
      "outputs": [
        {
          "output_type": "stream",
          "name": "stdout",
          "text": [
            "Mounted at /content/drive\n"
          ]
        }
      ],
      "source": [
        "from google.colab import drive\n",
        "drive.mount('/content/drive', force_remount=True )"
      ]
    },
    {
      "cell_type": "code",
      "source": [
        "ls"
      ],
      "metadata": {
        "colab": {
          "base_uri": "https://localhost:8080/"
        },
        "id": "7BifmEZSDOtr",
        "outputId": "4a2dae17-f708-4996-dc5b-498ba259182b"
      },
      "execution_count": 2,
      "outputs": [
        {
          "output_type": "stream",
          "name": "stdout",
          "text": [
            "\u001b[0m\u001b[01;34mdrive\u001b[0m/  \u001b[01;34msample_data\u001b[0m/\n"
          ]
        }
      ]
    },
    {
      "cell_type": "code",
      "source": [
        "ls drive/"
      ],
      "metadata": {
        "colab": {
          "base_uri": "https://localhost:8080/"
        },
        "id": "U7iegKvEDceM",
        "outputId": "5d1b24f0-0b72-4416-989f-ac79ca3cad86"
      },
      "execution_count": 3,
      "outputs": [
        {
          "output_type": "stream",
          "name": "stdout",
          "text": [
            "\u001b[0m\u001b[01;34mMyDrive\u001b[0m/\n"
          ]
        }
      ]
    },
    {
      "cell_type": "code",
      "source": [
        "cd  drive/MyDrive/"
      ],
      "metadata": {
        "colab": {
          "base_uri": "https://localhost:8080/"
        },
        "id": "hDEZCJOfD2gk",
        "outputId": "e1a74ff7-9bbd-4185-949c-ace273186588"
      },
      "execution_count": 2,
      "outputs": [
        {
          "output_type": "stream",
          "name": "stdout",
          "text": [
            "/content/drive/MyDrive\n"
          ]
        }
      ]
    },
    {
      "cell_type": "code",
      "source": [
        "ls"
      ],
      "metadata": {
        "colab": {
          "base_uri": "https://localhost:8080/"
        },
        "id": "jYz5bFcyD64O",
        "outputId": "73b5810e-570d-48ca-b394-41d382df2081"
      },
      "execution_count": 3,
      "outputs": [
        {
          "output_type": "stream",
          "name": "stdout",
          "text": [
            " \u001b[0m\u001b[01;34mcaptcha\u001b[0m/  \u001b[01;34m'Colab Notebooks'\u001b[0m/   \u001b[01;34mdata\u001b[0m/  'Proposition de projet.gdoc'\n"
          ]
        }
      ]
    },
    {
      "cell_type": "code",
      "source": [
        "import captcha\n"
      ],
      "metadata": {
        "id": "_ezrUYUUEEuj"
      },
      "execution_count": 4,
      "outputs": []
    },
    {
      "cell_type": "code",
      "source": [
        "import os\n",
        "os.getcwd()"
      ],
      "metadata": {
        "colab": {
          "base_uri": "https://localhost:8080/",
          "height": 36
        },
        "id": "4tRBTDpdMjfn",
        "outputId": "e1b1d4d3-02be-4e8c-b9e7-f96a8246e8d9"
      },
      "execution_count": 5,
      "outputs": [
        {
          "output_type": "execute_result",
          "data": {
            "text/plain": [
              "'/content/drive/MyDrive'"
            ],
            "application/vnd.google.colaboratory.intrinsic+json": {
              "type": "string"
            }
          },
          "metadata": {},
          "execution_count": 5
        }
      ]
    },
    {
      "cell_type": "code",
      "source": [
        "import numpy as np\n",
        "import matplotlib.pyplot as plt\n",
        "import captcha\n",
        "from pathlib import Path\n",
        "from collections import Counter\n",
        "\n",
        "import tensorflow as tf\n",
        "from tensorflow import keras\n",
        "from tensorflow.keras import layers"
      ],
      "metadata": {
        "id": "TP38OJabZQYU"
      },
      "execution_count": 22,
      "outputs": []
    },
    {
      "cell_type": "code",
      "source": [
        "import glob\n",
        "Captcha_Data = Path(\"../MyDrive/captcha\")"
      ],
      "metadata": {
        "id": "gzctTEUHFh6i"
      },
      "execution_count": 23,
      "outputs": []
    },
    {
      "cell_type": "code",
      "source": [
        "Captcha_Path = list(Captcha_Data.glob(\"*.png\"))"
      ],
      "metadata": {
        "id": "R5kdDqy8HkMR"
      },
      "execution_count": 24,
      "outputs": []
    },
    {
      "cell_type": "code",
      "source": [
        "import pandas as pd\n",
        "Captcha_Series = pd.Series(Captcha_Path,name=\"CAPTCHA\").astype(str)"
      ],
      "metadata": {
        "id": "Jl5n9T4oHoW5"
      },
      "execution_count": 25,
      "outputs": []
    },
    {
      "cell_type": "code",
      "source": [
        "print(Captcha_Series)"
      ],
      "metadata": {
        "colab": {
          "base_uri": "https://localhost:8080/"
        },
        "id": "G4HGGmygH5JK",
        "outputId": "f921af62-a0dd-4b7e-f802-111163a38721"
      },
      "execution_count": 26,
      "outputs": [
        {
          "output_type": "stream",
          "name": "stdout",
          "text": [
            "0       ../MyDrive/captcha/f8f8g.png\n",
            "1       ../MyDrive/captcha/pwmbn.png\n",
            "2       ../MyDrive/captcha/cpe63.png\n",
            "3       ../MyDrive/captcha/b4ncn.png\n",
            "4       ../MyDrive/captcha/8g4yp.png\n",
            "                    ...             \n",
            "1035    ../MyDrive/captcha/ppx77.png\n",
            "1036    ../MyDrive/captcha/pmf5w.png\n",
            "1037    ../MyDrive/captcha/cdfen.png\n",
            "1038    ../MyDrive/captcha/c2yn8.png\n",
            "1039    ../MyDrive/captcha/3nfdn.png\n",
            "Name: CAPTCHA, Length: 1040, dtype: object\n"
          ]
        }
      ]
    },
    {
      "cell_type": "code",
      "source": [
        "# Get list of all the images\n",
        "images = sorted(list(map(str, list(Captcha_Data.glob(\"*.png\")))))\n",
        "labels = [img.split(os.path.sep)[-1].split(\".png\")[0] for img in images]\n",
        "characters = set(char for label in labels for char in label)\n",
        "characters = sorted(list(characters))\n",
        "\n",
        "print(\"Number of images found: \", len(images))\n",
        "print(\"Number of labels found: \", len(labels))\n",
        "print(\"Number of unique characters: \", len(characters))\n",
        "print(\"Characters present: \", characters)\n",
        "print(\"labels present: \", labels[:5])\n",
        "# Batch size for training and validation\n",
        "batch_size = 16\n"
      ],
      "metadata": {
        "colab": {
          "base_uri": "https://localhost:8080/"
        },
        "id": "mGc8et25EKvs",
        "outputId": "55d01d9b-4fc6-46ee-c811-b6651b98e006"
      },
      "execution_count": 28,
      "outputs": [
        {
          "output_type": "stream",
          "name": "stdout",
          "text": [
            "Number of images found:  1040\n",
            "Number of labels found:  1040\n",
            "Number of unique characters:  19\n",
            "Characters present:  ['2', '3', '4', '5', '6', '7', '8', 'b', 'c', 'd', 'e', 'f', 'g', 'm', 'n', 'p', 'w', 'x', 'y']\n",
            "labels present:  ['226md', '22d5n', '2356g', '23mdg', '23n88']\n"
          ]
        }
      ]
    },
    {
      "cell_type": "markdown",
      "source": [],
      "metadata": {
        "id": "-peF2hBItPZf"
      }
    },
    {
      "cell_type": "markdown",
      "source": [
        "# **Visualize the data**"
      ],
      "metadata": {
        "id": "BxVWe4CmtbRG"
      }
    },
    {
      "cell_type": "code",
      "source": [
        "import cv2\n",
        "sample_images = images[:4]\n",
        "\n",
        "_,ax = plt.subplots(2,2, figsize=(5,3))\n",
        "for i in range(4):\n",
        "    img = cv2.imread(str(sample_images[i]))\n",
        "    print(\"Shape of image: \", img.shape)\n",
        "    ax[i//2, i%2].imshow(img)\n",
        "    ax[i//2, i%2].axis('off')\n",
        "plt.show()"
      ],
      "metadata": {
        "colab": {
          "base_uri": "https://localhost:8080/",
          "height": 221
        },
        "id": "bxqZQ2S9pu-W",
        "outputId": "bdf02d6b-73f8-4858-b08b-aea4f3b1bcb3"
      },
      "execution_count": 29,
      "outputs": [
        {
          "output_type": "stream",
          "name": "stdout",
          "text": [
            "Shape of image:  (50, 200, 3)\n",
            "Shape of image:  (50, 200, 3)\n",
            "Shape of image:  (50, 200, 3)\n",
            "Shape of image:  (50, 200, 3)\n"
          ]
        },
        {
          "output_type": "display_data",
          "data": {
            "text/plain": [
              "<Figure size 360x216 with 4 Axes>"
            ],
            "image/png": "[encoded data removed]"
          },
          "metadata": {
            "needs_background": "light"
          }
        }
      ]
    },
    {
      "cell_type": "code",
      "source": [
        "# Desired image dimensions\n",
        "img_width = 200\n",
        "img_height = 50\n",
        "\n",
        "# Factor by which the image is going to be downsampled\n",
        "# by the convolutional blocks. We will be using two\n",
        "# convolution blocks and each block will have\n",
        "# a pooling layer which downsample the features by a factor of 2.\n",
        "# Hence total downsampling factor would be 4.\n",
        "downsample_factor = 4\n",
        "\n",
        "# Maximum length of any captcha in the dataset\n",
        "max_length = max([len(label) for label in labels])\n"
      ],
      "metadata": {
        "id": "_TvICH8wH2r2"
      },
      "execution_count": 30,
      "outputs": []
    },
    {
      "cell_type": "code",
      "source": [
        "# Mapping characters to integers\n",
        "char_to_num = layers.StringLookup(\n",
        "    vocabulary=list(characters), mask_token=None\n",
        ")\n",
        "\n",
        "# Mapping integers back to original characters\n",
        "num_to_char = layers.StringLookup(\n",
        "    vocabulary=char_to_num.get_vocabulary(), mask_token=None, invert=True\n",
        ")\n",
        "\n",
        "\n",
        "def split_data(images, labels, train_size=0.9, shuffle=True):\n",
        "    # 1. Get the total size of the dataset\n",
        "    size = len(images)\n",
        "    print(size)\n",
        "    # 2. Make an indices array and shuffle it, if required\n",
        "    indices = np.arange(size)\n",
        "    if shuffle:\n",
        "        np.random.shuffle(indices)\n",
        "    # 3. Get the size of training samples\n",
        "    train_samples = int(size * train_size)\n",
        "    # 4. Split data into training and validation sets\n",
        "    x_train, y_train = images[indices[:train_samples]], labels[indices[:train_samples]]\n",
        "    x_valid, y_valid = images[indices[train_samples:]], labels[indices[train_samples:]]\n",
        "    return x_train, x_valid, y_train, y_valid\n",
        "\n",
        "\n",
        "# Splitting data into training and validation sets\n",
        "x_train, x_valid, y_train, y_valid = split_data(np.array(images), np.array(labels))\n",
        "print(x_valid)\n",
        "\n",
        "def encode_single_sample(img_path, label):\n",
        "    # 1. Read image\n",
        "    img = tf.io.read_file(img_path)\n",
        "    # 2. Decode and convert to grayscale\n",
        "    img = tf.io.decode_png(img, channels=1)\n",
        "    # 3. Convert to float32 in [0, 1] range\n",
        "    img = tf.image.convert_image_dtype(img, tf.float32)\n",
        "    # 4. Resize to the desired size\n",
        "    img = tf.image.resize(img, [img_height, img_width])\n",
        "    # 5. Transpose the image because we want the time\n",
        "    # dimension to correspond to the width of the image.\n",
        "    img = tf.transpose(img, perm=[1, 0, 2])\n",
        "    # 6. Map the characters in label to numbers\n",
        "    label = char_to_num(tf.strings.unicode_split(label, input_encoding=\"UTF-8\"))\n",
        "    # 7. Return a dict as our model is expecting two inputs\n",
        "    return {\"image\": img, \"label\": label}\n"
      ],
      "metadata": {
        "colab": {
          "base_uri": "https://localhost:8080/"
        },
        "id": "dIimZiATFg09",
        "outputId": "39bea2a9-384c-4f36-ef39-8978851a552f"
      },
      "execution_count": 32,
      "outputs": [
        {
          "output_type": "stream",
          "name": "stdout",
          "text": [
            "1040\n",
            "['../MyDrive/captcha/fywb8.png' '../MyDrive/captcha/gc2wd.png'\n",
            " '../MyDrive/captcha/445cc.png' '../MyDrive/captcha/377xx.png'\n",
            " '../MyDrive/captcha/m23bp.png' '../MyDrive/captcha/6ng6w.png'\n",
            " '../MyDrive/captcha/7nnnx.png' '../MyDrive/captcha/d8dce.png'\n",
            " '../MyDrive/captcha/g8gnd.png' '../MyDrive/captcha/c4mcm.png'\n",
            " '../MyDrive/captcha/6g45w.png' '../MyDrive/captcha/3ygde.png'\n",
            " '../MyDrive/captcha/mcc2x.png' '../MyDrive/captcha/c55c6.png'\n",
            " '../MyDrive/captcha/d22y5.png' '../MyDrive/captcha/xcmbp.png'\n",
            " '../MyDrive/captcha/pyefb.png' '../MyDrive/captcha/wce5n.png'\n",
            " '../MyDrive/captcha/67dey.png' '../MyDrive/captcha/3bnyf.png'\n",
            " '../MyDrive/captcha/4fc36.png' '../MyDrive/captcha/ypp8f.png'\n",
            " '../MyDrive/captcha/n8ydd.png' '../MyDrive/captcha/mdxpn.png'\n",
            " '../MyDrive/captcha/nw5b2.png' '../MyDrive/captcha/cm6yb.png'\n",
            " '../MyDrive/captcha/5p3mm.png' '../MyDrive/captcha/e6m6p.png'\n",
            " '../MyDrive/captcha/3bfnd.png' '../MyDrive/captcha/w48cw.png'\n",
            " '../MyDrive/captcha/m457d.png' '../MyDrive/captcha/5mgn4.png'\n",
            " '../MyDrive/captcha/5dxnm.png' '../MyDrive/captcha/pcpg6.png'\n",
            " '../MyDrive/captcha/4dgf7.png' '../MyDrive/captcha/dnxdp.png'\n",
            " '../MyDrive/captcha/en32e.png' '../MyDrive/captcha/76353.png'\n",
            " '../MyDrive/captcha/dcnp8.png' '../MyDrive/captcha/33n73.png'\n",
            " '../MyDrive/captcha/cfc2y.png' '../MyDrive/captcha/xymfn.png'\n",
            " '../MyDrive/captcha/7p852.png' '../MyDrive/captcha/xp24p.png'\n",
            " '../MyDrive/captcha/x74b2.png' '../MyDrive/captcha/7b4bm.png'\n",
            " '../MyDrive/captcha/wgnwp.png' '../MyDrive/captcha/bw6n6.png'\n",
            " '../MyDrive/captcha/cpe63.png' '../MyDrive/captcha/53wb8.png'\n",
            " '../MyDrive/captcha/n336e.png' '../MyDrive/captcha/efgx5.png'\n",
            " '../MyDrive/captcha/mbp2y.png' '../MyDrive/captcha/f858x.png'\n",
            " '../MyDrive/captcha/226md.png' '../MyDrive/captcha/646x8.png'\n",
            " '../MyDrive/captcha/44c22.png' '../MyDrive/captcha/4743p.png'\n",
            " '../MyDrive/captcha/x6pdb.png' '../MyDrive/captcha/nn6mg.png'\n",
            " '../MyDrive/captcha/m448b.png' '../MyDrive/captcha/p4nm4.png'\n",
            " '../MyDrive/captcha/68x48.png' '../MyDrive/captcha/f85y3.png'\n",
            " '../MyDrive/captcha/5mcy7.png' '../MyDrive/captcha/yd38e.png'\n",
            " '../MyDrive/captcha/bdbb3.png' '../MyDrive/captcha/nwncn.png'\n",
            " '../MyDrive/captcha/d7c5x.png' '../MyDrive/captcha/8y6b3.png'\n",
            " '../MyDrive/captcha/8n2pg.png' '../MyDrive/captcha/63pxe.png'\n",
            " '../MyDrive/captcha/5nnff.png' '../MyDrive/captcha/mc35n.png'\n",
            " '../MyDrive/captcha/ncw4g.png' '../MyDrive/captcha/5ng6e.png'\n",
            " '../MyDrive/captcha/728n8.png' '../MyDrive/captcha/n7enn.png'\n",
            " '../MyDrive/captcha/efb3f.png' '../MyDrive/captcha/5n728.png'\n",
            " '../MyDrive/captcha/xcf88.png' '../MyDrive/captcha/n5w5g.png'\n",
            " '../MyDrive/captcha/76y6f.png' '../MyDrive/captcha/fncnb.png'\n",
            " '../MyDrive/captcha/47m2b.png' '../MyDrive/captcha/7bb7b.png'\n",
            " '../MyDrive/captcha/f83pn.png' '../MyDrive/captcha/dmx8p.png'\n",
            " '../MyDrive/captcha/fc6xb.png' '../MyDrive/captcha/5n732.png'\n",
            " '../MyDrive/captcha/mxyxw.png' '../MyDrive/captcha/b5dn4.png'\n",
            " '../MyDrive/captcha/58pnp.png' '../MyDrive/captcha/f7cey.png'\n",
            " '../MyDrive/captcha/px2xp.png' '../MyDrive/captcha/4w76g.png'\n",
            " '../MyDrive/captcha/pm47f.png' '../MyDrive/captcha/gn2d3.png'\n",
            " '../MyDrive/captcha/deneb.png' '../MyDrive/captcha/fw3b2.png'\n",
            " '../MyDrive/captcha/c8n8c.png' '../MyDrive/captcha/bny4w.png'\n",
            " '../MyDrive/captcha/d8xcn.png' '../MyDrive/captcha/y4n6m.png']\n"
          ]
        }
      ]
    },
    {
      "cell_type": "markdown",
      "source": [
        "# **Create Dataset objects**"
      ],
      "metadata": {
        "id": "WloFWK2hB117"
      }
    },
    {
      "cell_type": "code",
      "source": [
        "train_dataset = tf.data.Dataset.from_tensor_slices((x_train, y_train))\n",
        "train_dataset = (\n",
        "    train_dataset.map(\n",
        "        encode_single_sample, num_parallel_calls=tf.data.AUTOTUNE\n",
        "    )\n",
        "    .batch(batch_size)\n",
        "    .prefetch(buffer_size=tf.data.AUTOTUNE)\n",
        ")\n",
        "\n",
        "validation_dataset = tf.data.Dataset.from_tensor_slices((x_valid, y_valid))\n",
        "validation_dataset = (\n",
        "    validation_dataset.map(\n",
        "        encode_single_sample, num_parallel_calls=tf.data.AUTOTUNE\n",
        "    )\n",
        "    .batch(batch_size)\n",
        "    .prefetch(buffer_size=tf.data.AUTOTUNE)\n",
        ")"
      ],
      "metadata": {
        "id": "p2MU3YHwb5zS"
      },
      "execution_count": 33,
      "outputs": []
    },
    {
      "cell_type": "code",
      "source": [
        "validation_dataset\n",
        "train_dataset\n"
      ],
      "metadata": {
        "colab": {
          "base_uri": "https://localhost:8080/"
        },
        "id": "wOlmJtnmcH61",
        "outputId": "ea3a2387-879b-4ce7-f707-f614683b7016"
      },
      "execution_count": 36,
      "outputs": [
        {
          "output_type": "execute_result",
          "data": {
            "text/plain": [
              "<PrefetchDataset element_spec={'image': TensorSpec(shape=(None, 200, 50, 1), dtype=tf.float32, name=None), 'label': TensorSpec(shape=(None, None), dtype=tf.int64, name=None)}>"
            ]
          },
          "metadata": {},
          "execution_count": 36
        }
      ]
    },
    {
      "cell_type": "code",
      "source": [
        "class CTCLayer(layers.Layer):\n",
        "    def __init__(self, name=None):\n",
        "        super().__init__(name=name)\n",
        "        self.loss_fn = keras.backend.ctc_batch_cost\n",
        "\n",
        "    def call(self, y_true, y_pred):\n",
        "        batch_len = tf.cast(tf.shape(y_true)[0], dtype=\"int64\")\n",
        "        input_length = tf.cast(tf.shape(y_pred)[1], dtype=\"int64\")\n",
        "        label_length = tf.cast(tf.shape(y_true)[1], dtype=\"int64\")\n",
        "\n",
        "        input_length = input_length * tf.ones(shape=(batch_len, 1), dtype=\"int64\")\n",
        "        label_length = label_length * tf.ones(shape=(batch_len, 1), dtype=\"int64\")\n",
        "        # Compute the training-time loss value and add it\n",
        "        # to the layer using `self.add_loss()`\n",
        "        loss = self.loss_fn(y_true, y_pred, input_length, label_length)\n",
        "        self.add_loss(loss)\n",
        "\n",
        "        # At test time, just return the computed predictions\n",
        "        return y_pred\n",
        "\n",
        "\n"
      ],
      "metadata": {
        "id": "fH1NG-8ieBjn"
      },
      "execution_count": 37,
      "outputs": []
    },
    {
      "cell_type": "code",
      "source": [
        "\n",
        "def build_model():\n",
        "    # Inputs \n",
        "    input_img = layers.Input(\n",
        "        shape=(img_width, img_height, 1), name=\"image\", dtype=\"float32\"\n",
        "    )\n",
        "    labels = layers.Input(name=\"label\", shape=(None,), dtype=\"float32\")\n",
        "\n",
        "    # First conv block\n",
        "    x = layers.Conv2D(\n",
        "        32,\n",
        "        (3, 3),\n",
        "        activation=\"relu\",\n",
        "        kernel_initializer=\"he_normal\",\n",
        "        padding=\"same\",\n",
        "        name=\"Conv1\",\n",
        "    )(input_img)\n",
        "    x = layers.MaxPooling2D((2, 2), name=\"pool1\")(x)\n",
        "\n",
        "    # Second conv block\n",
        "    x = layers.Conv2D(\n",
        "        64,\n",
        "        (3, 3),\n",
        "        activation=\"relu\",\n",
        "        kernel_initializer=\"he_normal\",\n",
        "        padding=\"same\",\n",
        "        name=\"Conv2\",\n",
        "    )(x)\n",
        "    x = layers.MaxPooling2D((2, 2), name=\"pool2\")(x)\n",
        "\n",
        "    # We have used two max pool with pool size and strides 2.\n",
        "    # Hence, downsampled feature maps are 4x smaller. The number of\n",
        "    # filters in the last layer is 64. Reshape accordingly before\n",
        "    # passing the output to the RNN part of the model\n",
        "    new_shape = ((img_width // 4), (img_height // 4) * 64)\n",
        "    x = layers.Reshape(target_shape=new_shape, name=\"reshape\")(x)\n",
        "    x = layers.Dense(64, activation=\"relu\", name=\"dense1\")(x)\n",
        "    x = layers.Dropout(0.2)(x)\n",
        "\n",
        "    # RNNs\n",
        "    x = layers.Bidirectional(layers.LSTM(128, return_sequences=True, dropout=0.25))(x)\n",
        "    x = layers.Bidirectional(layers.LSTM(64, return_sequences=True, dropout=0.25))(x)\n",
        "\n",
        "    # Output layer\n",
        "    x = layers.Dense(\n",
        "        len(char_to_num.get_vocabulary()) + 1, activation=\"softmax\", name=\"dense2\"\n",
        "    )(x)\n",
        "\n",
        "    # Add CTC layer for calculating CTC loss at each step\n",
        "    output = CTCLayer(name=\"ctc_loss\")(labels, x)\n",
        "\n",
        "    # Define the model\n",
        "    model = keras.models.Model(\n",
        "        inputs=[input_img, labels], outputs=output, name=\"ocr_model_v1\"\n",
        "    )\n",
        "    # Optimizer\n",
        "    opt = keras.optimizers.Adam()\n",
        "    # Compile the model and return\n",
        "    model.compile(optimizer=opt)\n",
        "    return model\n",
        "\n",
        "\n",
        "# Get the model\n",
        "model = build_model()\n",
        "model.summary()"
      ],
      "metadata": {
        "colab": {
          "base_uri": "https://localhost:8080/"
        },
        "id": "YePiIORNeQg0",
        "outputId": "9054d256-63eb-486d-9d58-dac6ac1b3230"
      },
      "execution_count": 38,
      "outputs": [
        {
          "output_type": "stream",
          "name": "stdout",
          "text": [
            "Model: \"ocr_model_v1\"\n",
            "__________________________________________________________________________________________________\n",
            " Layer (type)                   Output Shape         Param #     Connected to                     \n",
            "==================================================================================================\n",
            " image (InputLayer)             [(None, 200, 50, 1)  0           []                               \n",
            "                                ]                                                                 \n",
            "                                                                                                  \n",
            " Conv1 (Conv2D)                 (None, 200, 50, 32)  320         ['image[0][0]']                  \n",
            "                                                                                                  \n",
            " pool1 (MaxPooling2D)           (None, 100, 25, 32)  0           ['Conv1[0][0]']                  \n",
            "                                                                                                  \n",
            " Conv2 (Conv2D)                 (None, 100, 25, 64)  18496       ['pool1[0][0]']                  \n",
            "                                                                                                  \n",
            " pool2 (MaxPooling2D)           (None, 50, 12, 64)   0           ['Conv2[0][0]']                  \n",
            "                                                                                                  \n",
            " reshape (Reshape)              (None, 50, 768)      0           ['pool2[0][0]']                  \n",
            "                                                                                                  \n",
            " dense1 (Dense)                 (None, 50, 64)       49216       ['reshape[0][0]']                \n",
            "                                                                                                  \n",
            " dropout (Dropout)              (None, 50, 64)       0           ['dense1[0][0]']                 \n",
            "                                                                                                  \n",
            " bidirectional (Bidirectional)  (None, 50, 256)      197632      ['dropout[0][0]']                \n",
            "                                                                                                  \n",
            " bidirectional_1 (Bidirectional  (None, 50, 128)     164352      ['bidirectional[0][0]']          \n",
            " )                                                                                                \n",
            "                                                                                                  \n",
            " label (InputLayer)             [(None, None)]       0           []                               \n",
            "                                                                                                  \n",
            " dense2 (Dense)                 (None, 50, 21)       2709        ['bidirectional_1[0][0]']        \n",
            "                                                                                                  \n",
            " ctc_loss (CTCLayer)            (None, 50, 21)       0           ['label[0][0]',                  \n",
            "                                                                  'dense2[0][0]']                 \n",
            "                                                                                                  \n",
            "==================================================================================================\n",
            "Total params: 432,725\n",
            "Trainable params: 432,725\n",
            "Non-trainable params: 0\n",
            "__________________________________________________________________________________________________\n"
          ]
        }
      ]
    },
    {
      "cell_type": "code",
      "source": [],
      "metadata": {
        "id": "Zh0vEKTwjOfG"
      },
      "execution_count": null,
      "outputs": []
    },
    {
      "cell_type": "code",
      "execution_count": 133,
      "metadata": {
        "id": "pK2Xe0HCEtmF",
        "colab": {
          "base_uri": "https://localhost:8080/"
        },
        "outputId": "49bc158e-de0b-4eb4-c7f4-8aa482603fb2"
      },
      "outputs": [
        {
          "output_type": "stream",
          "name": "stdout",
          "text": [
            "Model: \"model_5\"\n",
            "_________________________________________________________________\n",
            " Layer (type)                Output Shape              Param #   \n",
            "=================================================================\n",
            " image (InputLayer)          [(None, 200, 50, 1)]      0         \n",
            "                                                                 \n",
            " Conv1 (Conv2D)              (None, 200, 50, 32)       320       \n",
            "                                                                 \n",
            " pool1 (MaxPooling2D)        (None, 100, 25, 32)       0         \n",
            "                                                                 \n",
            " Conv2 (Conv2D)              (None, 100, 25, 64)       18496     \n",
            "                                                                 \n",
            " pool2 (MaxPooling2D)        (None, 50, 12, 64)        0         \n",
            "                                                                 \n",
            " reshape (Reshape)           (None, 50, 768)           0         \n",
            "                                                                 \n",
            " dense1 (Dense)              (None, 50, 64)            49216     \n",
            "                                                                 \n",
            " dropout_2 (Dropout)         (None, 50, 64)            0         \n",
            "                                                                 \n",
            " bidirectional_5 (Bidirectio  (None, 50, 256)          197632    \n",
            " nal)                                                            \n",
            "                                                                 \n",
            " bidirectional_6 (Bidirectio  (None, 50, 128)          164352    \n",
            " nal)                                                            \n",
            "                                                                 \n",
            " dense2 (Dense)              (None, 50, 21)            2709      \n",
            "                                                                 \n",
            "=================================================================\n",
            "Total params: 432,725\n",
            "Trainable params: 432,725\n",
            "Non-trainable params: 0\n",
            "_________________________________________________________________\n"
          ]
        }
      ],
      "source": [
        "# Get the prediction model by extracting layers till the output layer\n",
        "prediction_model = keras.models.Model(\n",
        "    model.get_layer(name=\"image\").input, model.get_layer(name=\"dense2\").output\n",
        ")\n",
        "prediction_model.summary()\n",
        "\n",
        "# A utility function to decode the output of the network\n",
        "def decode_batch_predictions(pred):\n",
        "    input_len = np.ones(pred.shape[0]) * pred.shape[1]\n",
        "    # Use greedy search. For complex tasks, you can use beam search\n",
        "    results = keras.backend.ctc_decode(pred, input_length=input_len, greedy=True)[0][0][\n",
        "        :, :max_length\n",
        "    ]\n",
        "    # Iterate over the results and get back the text\n",
        "    output_text = []\n",
        "    for res in results:\n",
        "        res = tf.strings.reduce_join(num_to_char(res)).numpy().decode(\"utf-8\")\n",
        "        output_text.append(res)\n",
        "    return output_text\n",
        "\n",
        "\n"
      ]
    },
    {
      "cell_type": "markdown",
      "source": [
        "# **Training Model**"
      ],
      "metadata": {
        "id": "i5d9T-VE_tcP"
      }
    },
    {
      "cell_type": "code",
      "source": [
        "epochs = 50\n",
        "early_stopping_patience = 10\n",
        "# Add early stopping\n",
        "early_stopping = keras.callbacks.EarlyStopping(\n",
        "    monitor=\"val_loss\", patience=early_stopping_patience, restore_best_weights=True\n",
        ")\n",
        "\n",
        "# Train the model\n",
        "history = model.fit(\n",
        "    train_dataset,\n",
        "    validation_data=validation_dataset,\n",
        "    epochs=epochs,\n",
        "    callbacks=[early_stopping],\n",
        ")"
      ],
      "metadata": {
        "colab": {
          "base_uri": "https://localhost:8080/"
        },
        "id": "gx3nsYcQjJTD",
        "outputId": "08bca4fe-4c11-4f96-9528-3f9425ca7208"
      },
      "execution_count": 39,
      "outputs": [
        {
          "output_type": "stream",
          "name": "stdout",
          "text": [
            "Epoch 1/50\n",
            "59/59 [==============================] - 141s 2s/step - loss: 21.7022 - val_loss: 16.4146\n",
            "Epoch 2/50\n",
            "59/59 [==============================] - 27s 464ms/step - loss: 16.3511 - val_loss: 16.3944\n",
            "Epoch 3/50\n",
            "59/59 [==============================] - 27s 453ms/step - loss: 16.3327 - val_loss: 16.3809\n",
            "Epoch 4/50\n",
            "59/59 [==============================] - 27s 453ms/step - loss: 16.3264 - val_loss: 16.3736\n",
            "Epoch 5/50\n",
            "59/59 [==============================] - 28s 474ms/step - loss: 16.3210 - val_loss: 16.3764\n",
            "Epoch 6/50\n",
            "59/59 [==============================] - 26s 443ms/step - loss: 16.3097 - val_loss: 16.3820\n",
            "Epoch 7/50\n",
            "59/59 [==============================] - 26s 440ms/step - loss: 16.2990 - val_loss: 16.3381\n",
            "Epoch 8/50\n",
            "59/59 [==============================] - 29s 489ms/step - loss: 16.2788 - val_loss: 16.2806\n",
            "Epoch 9/50\n",
            "59/59 [==============================] - 27s 462ms/step - loss: 16.2454 - val_loss: 16.2575\n",
            "Epoch 10/50\n",
            "59/59 [==============================] - 27s 454ms/step - loss: 16.1843 - val_loss: 16.0897\n",
            "Epoch 11/50\n",
            "59/59 [==============================] - 26s 441ms/step - loss: 16.0706 - val_loss: 16.0085\n",
            "Epoch 12/50\n",
            "59/59 [==============================] - 26s 446ms/step - loss: 15.9228 - val_loss: 15.8490\n",
            "Epoch 13/50\n",
            "59/59 [==============================] - 31s 521ms/step - loss: 15.7220 - val_loss: 16.0744\n",
            "Epoch 14/50\n",
            "59/59 [==============================] - 30s 500ms/step - loss: 15.6033 - val_loss: 15.7346\n",
            "Epoch 15/50\n",
            "59/59 [==============================] - 28s 475ms/step - loss: 15.5201 - val_loss: 15.6910\n",
            "Epoch 16/50\n",
            "59/59 [==============================] - 26s 442ms/step - loss: 15.4494 - val_loss: 15.4817\n",
            "Epoch 17/50\n",
            "59/59 [==============================] - 27s 449ms/step - loss: 15.2321 - val_loss: 15.1921\n",
            "Epoch 18/50\n",
            "59/59 [==============================] - 27s 456ms/step - loss: 15.0579 - val_loss: 15.0770\n",
            "Epoch 19/50\n",
            "59/59 [==============================] - 27s 460ms/step - loss: 14.8366 - val_loss: 14.8011\n",
            "Epoch 20/50\n",
            "59/59 [==============================] - 27s 451ms/step - loss: 14.4849 - val_loss: 14.4021\n",
            "Epoch 21/50\n",
            "59/59 [==============================] - 26s 442ms/step - loss: 14.1137 - val_loss: 13.9594\n",
            "Epoch 22/50\n",
            "59/59 [==============================] - 26s 441ms/step - loss: 13.5924 - val_loss: 13.3988\n",
            "Epoch 23/50\n",
            "59/59 [==============================] - 26s 445ms/step - loss: 12.7586 - val_loss: 12.1815\n",
            "Epoch 24/50\n",
            "59/59 [==============================] - 27s 456ms/step - loss: 11.0899 - val_loss: 8.8819\n",
            "Epoch 25/50\n",
            "59/59 [==============================] - 26s 449ms/step - loss: 7.4508 - val_loss: 4.4823\n",
            "Epoch 26/50\n",
            "59/59 [==============================] - 27s 452ms/step - loss: 4.2032 - val_loss: 2.3402\n",
            "Epoch 27/50\n",
            "59/59 [==============================] - 26s 438ms/step - loss: 2.4921 - val_loss: 1.1084\n",
            "Epoch 28/50\n",
            "59/59 [==============================] - 25s 431ms/step - loss: 1.6252 - val_loss: 0.7042\n",
            "Epoch 29/50\n",
            "59/59 [==============================] - 29s 485ms/step - loss: 1.0638 - val_loss: 0.4051\n",
            "Epoch 30/50\n",
            "59/59 [==============================] - 27s 465ms/step - loss: 0.7124 - val_loss: 0.3200\n",
            "Epoch 31/50\n",
            "59/59 [==============================] - 35s 600ms/step - loss: 0.5555 - val_loss: 0.1759\n",
            "Epoch 32/50\n",
            "59/59 [==============================] - 33s 556ms/step - loss: 0.4190 - val_loss: 0.1512\n",
            "Epoch 33/50\n",
            "59/59 [==============================] - 26s 433ms/step - loss: 0.3424 - val_loss: 0.1430\n",
            "Epoch 34/50\n",
            "59/59 [==============================] - 26s 434ms/step - loss: 0.2618 - val_loss: 0.1586\n",
            "Epoch 35/50\n",
            "59/59 [==============================] - 28s 467ms/step - loss: 0.2042 - val_loss: 0.1148\n",
            "Epoch 36/50\n",
            "59/59 [==============================] - 25s 416ms/step - loss: 0.2561 - val_loss: 0.1395\n",
            "Epoch 37/50\n",
            "59/59 [==============================] - 26s 442ms/step - loss: 0.1985 - val_loss: 0.1182\n",
            "Epoch 38/50\n",
            "59/59 [==============================] - 27s 443ms/step - loss: 0.1764 - val_loss: 0.1115\n",
            "Epoch 39/50\n",
            "59/59 [==============================] - 34s 584ms/step - loss: 0.1298 - val_loss: 0.1007\n",
            "Epoch 40/50\n",
            "59/59 [==============================] - 33s 556ms/step - loss: 0.2135 - val_loss: 0.1100\n",
            "Epoch 41/50\n",
            "59/59 [==============================] - 35s 592ms/step - loss: 0.1489 - val_loss: 0.1173\n",
            "Epoch 42/50\n",
            "59/59 [==============================] - 28s 475ms/step - loss: 0.1158 - val_loss: 0.1773\n",
            "Epoch 43/50\n",
            "59/59 [==============================] - 27s 457ms/step - loss: 0.1204 - val_loss: 0.1228\n",
            "Epoch 44/50\n",
            "59/59 [==============================] - 27s 451ms/step - loss: 0.0678 - val_loss: 0.1457\n",
            "Epoch 45/50\n",
            "59/59 [==============================] - 27s 454ms/step - loss: 0.1074 - val_loss: 0.1382\n",
            "Epoch 46/50\n",
            "59/59 [==============================] - 30s 502ms/step - loss: 0.0898 - val_loss: 0.1351\n",
            "Epoch 47/50\n",
            "59/59 [==============================] - 27s 451ms/step - loss: 0.1038 - val_loss: 0.1308\n",
            "Epoch 48/50\n",
            "59/59 [==============================] - 31s 520ms/step - loss: 0.0686 - val_loss: 0.1111\n",
            "Epoch 49/50\n",
            "59/59 [==============================] - 29s 494ms/step - loss: 0.0542 - val_loss: 0.1194\n"
          ]
        }
      ]
    },
    {
      "cell_type": "markdown",
      "source": [
        "# **check the results**"
      ],
      "metadata": {
        "id": "s1QDZqwi4g0N"
      }
    },
    {
      "cell_type": "code",
      "source": [],
      "metadata": {
        "id": "Q5LSoBJOHsl6"
      },
      "execution_count": null,
      "outputs": []
    }
  ]
}